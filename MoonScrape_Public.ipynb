{
 "cells": [
  {
   "cell_type": "code",
   "execution_count": 7,
   "metadata": {},
   "outputs": [],
   "source": [
    "import requests\n",
    "from selenium import webdriver\n",
    "import re\n",
    "import os\n",
    "import csv\n",
    "import pandas as pd\n",
    "import datetime\n",
    "import json\n",
    "driver = webdriver.Firefox()"
   ]
  },
  {
   "cell_type": "code",
   "execution_count": 8,
   "metadata": {},
   "outputs": [],
   "source": [
    "mp_list, day_list, time_list, month_list, year_list = [], [], [], [], []\n",
    "\n",
    "def startdate(startmonth, startyear, endmonth, endyear):\n",
    "    end = endmonth + ' ' + endyear\n",
    "    start = driver.get(\"https://www.moongiant.com/moonphases/\" + startmonth + '/' + startyear)\n",
    "    def collectdata():\n",
    "        phases = driver.find_elements_by_id('tablePhases')\n",
    "        for i in phases:\n",
    "            split_list = i.text.split()\n",
    "                \n",
    "        def chunker(seq, size):\n",
    "            return (seq[pos:pos + size] for pos in range(0, len(seq), size))       \n",
    "        for element in chunker(split_list, 6):\n",
    "            if re.search(r'(\\D*)(\\d+)', element[2]): \n",
    "                mo = list(filter(None, re.split('(\\d+)',element[2])))\n",
    "                element[2:3] = mo\n",
    "            joined = ' '.join(element[0:2])\n",
    "            mp_list.append(joined)\n",
    "            day_list.append(element[3])\n",
    "            time_list.append(element[4])\n",
    "            month_list.append(element[2])\n",
    "\n",
    "        monthyear = driver.find_elements_by_css_selector('#placePhase > div:nth-child(1) > h1:nth-child(3)')\n",
    "        for month in monthyear:\n",
    "            year_pattern = re.compile(r'\\d{4}')\n",
    "            year_matches = year_pattern.findall(month.text)\n",
    "            for match in year_matches:\n",
    "                for element in chunker(split_list, 6):\n",
    "                    year_list.append(match)\n",
    "        return checkdate()\n",
    "        \n",
    "    def nextpage():\n",
    "        driver.find_element_by_xpath('//*[@id=\"nextMonth\"]').click()\n",
    "        collectdata()\n",
    "    def checkdate():\n",
    "        monthyear = driver.find_elements_by_css_selector('#placePhase > div:nth-child(1) > h1:nth-child(3)')\n",
    "        for month in monthyear:\n",
    "            if end not in month.text:\n",
    "                nextpage()\n",
    "            else:\n",
    "                break\n",
    "                \n",
    "    collectdata()\n",
    "    checkdate()\n",
    "    \n",
    "startdate('January', '2016', 'December', '2017')\n",
    "\n",
    "final_array = []\n",
    "\n",
    "for mp, day, time, month, year in zip(mp_list, day_list, time_list, month_list, year_list):\n",
    "    final_array.append({'Moon Phase':mp, 'Day':day, 'Time (UTC)':time, 'Month': month, 'Year':year})\n",
    "\n",
    "df = pd.DataFrame(final_array)\n",
    "df['Time (UTC)'] = pd.to_datetime(df['Time (UTC)'], format='%H:%M').dt.time\n",
    "df['Time (UTC)'] = (df['Time (UTC)'].apply(lambda t: t.strftime('%H:%M')))\n",
    "df.to_csv('Moon_Data.csv')\n",
    "df\n",
    "driver.quit()"
   ]
  },
  {
   "cell_type": "code",
   "execution_count": null,
   "metadata": {},
   "outputs": [],
   "source": [
    "df"
   ]
  }
 ],
 "metadata": {
  "kernelspec": {
   "display_name": "Python 3",
   "language": "python",
   "name": "python3"
  },
  "language_info": {
   "codemirror_mode": {
    "name": "ipython",
    "version": 3
   },
   "file_extension": ".py",
   "mimetype": "text/x-python",
   "name": "python",
   "nbconvert_exporter": "python",
   "pygments_lexer": "ipython3",
   "version": "3.6.8"
  }
 },
 "nbformat": 4,
 "nbformat_minor": 2
}
